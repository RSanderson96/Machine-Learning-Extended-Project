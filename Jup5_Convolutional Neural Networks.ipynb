{
 "cells": [
  {
   "cell_type": "markdown",
   "metadata": {},
   "source": [
    "## Convolutional Neural Networks"
   ]
  },
  {
   "cell_type": "markdown",
   "metadata": {},
   "source": [
    "### Initial Imports"
   ]
  },
  {
   "cell_type": "code",
   "execution_count": 16,
   "metadata": {},
   "outputs": [],
   "source": [
    "import pandas as pd\n",
    "import numpy as np\n",
    "import sklearn as sk\n",
    "import seaborn as sns\n",
    "import matplotlib.pylab as plt\n",
    "import matplotlib.pyplot as pyplt\n",
    "from sklearn import metrics \n",
    "import keras #keras - all elements for designing the model\n",
    "from keras.datasets import mnist\n",
    "from keras.models import Sequential\n",
    "from keras.layers import Dense, Dropout, Flatten\n",
    "from keras.layers import Conv1D, MaxPooling1D\n",
    "from keras import backend as K\n",
    "from sklearn.metrics import accuracy_score\n",
    "from sklearn.metrics import precision_score\n",
    "from sklearn.metrics import recall_score\n",
    "from sklearn.metrics import f1_score\n",
    "from sklearn.metrics import confusion_matrix\n",
    "from keras.utils import to_categorical\n"
   ]
  },
  {
   "cell_type": "code",
   "execution_count": 5,
   "metadata": {},
   "outputs": [
    {
     "name": "stdout",
     "output_type": "stream",
     "text": [
      "----> Data subjects information is imported.\n",
      "--> Start...\n",
      "--> Building Training and Test Datasets...\n",
      "----> Data subjects information is imported.\n",
      "--> Shape of Training Time-Seires: (1081446, 19)\n",
      "--> Shape of Test Time-Series: (331419, 19)\n"
     ]
    }
   ],
   "source": [
    "def get_ds_infos():\n",
    "    ## 0:Code, 1:Weight, 2:Height, 3:Age, 4:Gender\n",
    "    dss = np.genfromtxt(\"data_subjects_info.csv\",delimiter=',')\n",
    "    dss = dss[1:]\n",
    "    print(\"----> Data subjects information is imported.\")\n",
    "    return dss #read data subjects CSV file\n",
    "ds_list = get_ds_infos()\n",
    "\n",
    "def create_time_series(num_features, num_act_labels, num_gen_labels, label_codes, trial_codes):\n",
    "    dataset_columns = num_features+num_act_labels+num_gen_labels\n",
    "    ds_list = get_ds_infos() #information about the participants\n",
    "    train_data = np.zeros((0,dataset_columns)) #making initial array\n",
    "    test_data = np.zeros((0,dataset_columns))\n",
    "    for i, sub_id in enumerate(ds_list[:,0]):\n",
    "        for j, act in enumerate(label_codes):\n",
    "            for trial in trial_codes[act]:\n",
    "                fname ='motionsense-dataset/A_DeviceMotion_data/'+act+'_'+str(trial)+'/sub_'+str(int(sub_id))+'.csv'\n",
    "                raw_data = pd.read_csv(fname)\n",
    "                raw_data = raw_data.drop(['Unnamed: 0'], axis=1) #drop first column\n",
    "                unlabel_data = raw_data.values #need to lavel the data for training\n",
    "                label_data = np.zeros((len(unlabel_data), dataset_columns))\n",
    "                label_data[:,:-(num_act_labels + num_gen_labels)] = unlabel_data\n",
    "                label_data[:,label_codes[act]] = 1 #if that activity is included, 1 in column\n",
    "                label_data[:,-(num_gen_labels)] = int(ds_list[i,4]) #picking the gender column\n",
    "                ## long trials = training dataset Short trials = test dataset\n",
    "                if trial > 10: #training data is later trials\n",
    "                    test_data = np.append(test_data, label_data, axis = 0)\n",
    "                else:    \n",
    "                    train_data = np.append(train_data, label_data, axis = 0)\n",
    "    return train_data , test_data #returns the two datasets - rows of individual results for each time stamp\n",
    "print(\"--> Start...\")\n",
    "## Here we set parameter to build labeld time-series from dataset of \"(A)DeviceMotion_data\"\n",
    "num_features = 12 # attitude(roll, pitch, yaw); gravity(x, y, z); rotationRate(x, y, z); userAcceleration(x,y,z)\n",
    "num_act_labels = 6 # dws, ups, wlk, jog, sit, std\n",
    "num_gen_labels = 1 # 0/1(female/male)\n",
    "label_codes = {\"dws\":num_features, \"ups\":num_features+1, \"wlk\":num_features+2, \"jog\":num_features+3, \"sit\":num_features+4, \"std\":num_features+5}\n",
    "trial_codes = {\"dws\":[1,2,11], \"ups\":[3,4,12], \"wlk\":[7,8,15], \"jog\":[9,16], \"sit\":[5,13], \"std\":[6,14]}    \n",
    "## Use'create_time_series()' to build time-series\n",
    "print(\"--> Building Training and Test Datasets...\")\n",
    "train_ts, test_ts = create_time_series(num_features, num_act_labels, num_gen_labels, label_codes, trial_codes)\n",
    "print(\"--> Shape of Training Time-Seires:\", train_ts.shape)\n",
    "print(\"--> Shape of Test Time-Series:\", test_ts.shape)"
   ]
  },
  {
   "cell_type": "markdown",
   "metadata": {},
   "source": [
    "### Training and Testing Samples"
   ]
  },
  {
   "cell_type": "code",
   "execution_count": 17,
   "metadata": {},
   "outputs": [
    {
     "name": "stdout",
     "output_type": "stream",
     "text": [
      "x_train shape: (1081446, 18, 1)\n",
      "1081446 train samples\n",
      "331419 test samples\n"
     ]
    }
   ],
   "source": [
    "#testing and training samples - need to be made into the appropriate format eg array size and style\n",
    "\n",
    "x_test = np.delete((test_ts), 18, 1) \n",
    "y_test = test_ts [:,18]\n",
    "x_train = np.delete((train_ts), 18, 1)\n",
    "y_train = train_ts[:,18]\n",
    "num_classes = 2\n",
    "\n",
    "#correct array shape\n",
    "x_train = x_train.reshape(x_train.shape[0],18,1)\n",
    "x_test = x_test.reshape(x_test.shape[0], 18, 1)\n",
    "\n",
    "#final shape of the x samples\n",
    "x_train = x_train.astype('float32')\n",
    "x_test = x_test.astype('float32')\n",
    "print('x_train shape:', x_train.shape)\n",
    "print(x_train.shape[0], 'train samples')\n",
    "print(x_test.shape[0], 'test samples')\n",
    "\n",
    "# convert class vectors to binary class matrices\n",
    "y_train = keras.utils.to_categorical(y_train, num_classes)\n",
    "y_test = keras.utils.to_categorical(y_test, num_classes)"
   ]
  },
  {
   "cell_type": "markdown",
   "metadata": {},
   "source": [
    "### Building the Model"
   ]
  },
  {
   "cell_type": "code",
   "execution_count": 18,
   "metadata": {},
   "outputs": [
    {
     "name": "stdout",
     "output_type": "stream",
     "text": [
      "Model: \"sequential_3\"\n",
      "_________________________________________________________________\n",
      "Layer (type)                 Output Shape              Param #   \n",
      "=================================================================\n",
      "conv1d_5 (Conv1D)            (None, 16, 50)            200       \n",
      "_________________________________________________________________\n",
      "conv1d_6 (Conv1D)            (None, 14, 50)            7550      \n",
      "_________________________________________________________________\n",
      "max_pooling1d_3 (MaxPooling1 (None, 4, 50)             0         \n",
      "_________________________________________________________________\n",
      "dropout_3 (Dropout)          (None, 4, 50)             0         \n",
      "_________________________________________________________________\n",
      "flatten_3 (Flatten)          (None, 200)               0         \n",
      "_________________________________________________________________\n",
      "dense_3 (Dense)              (None, 2)                 402       \n",
      "=================================================================\n",
      "Total params: 8,152\n",
      "Trainable params: 8,152\n",
      "Non-trainable params: 0\n",
      "_________________________________________________________________\n"
     ]
    }
   ],
   "source": [
    "#building the layers of the model - parameters can be varied\n",
    "model_cnn = Sequential()\n",
    "model_cnn.add(Conv1D(filters=50, kernel_size=3, activation='relu', input_shape=(18,1)))\n",
    "model_cnn.add(Conv1D(filters=50, kernel_size=3, activation='relu')) \n",
    "model_cnn.add(MaxPooling1D(pool_size=3)) #removes local noise - prevents overfitting to data sample\n",
    "model_cnn.add(Dropout(0.5))\n",
    "model_cnn.add(Flatten())\n",
    "model_cnn.add(Dense(2, activation='sigmoid')) #sigmoid - findings do not need to add to 1\n",
    "model_cnn.summary()"
   ]
  },
  {
   "cell_type": "markdown",
   "metadata": {},
   "source": [
    "### Running the Model"
   ]
  },
  {
   "cell_type": "code",
   "execution_count": 19,
   "metadata": {},
   "outputs": [
    {
     "name": "stdout",
     "output_type": "stream",
     "text": [
      "Train on 865156 samples, validate on 216290 samples\n",
      "Epoch 1/20\n",
      "865156/865156 [==============================] - 58s 67us/step - loss: 0.3530 - accuracy: 0.8316 - val_loss: 1.1062 - val_accuracy: 0.5368\n",
      "Epoch 2/20\n",
      "865156/865156 [==============================] - 57s 66us/step - loss: 0.3028 - accuracy: 0.8571 - val_loss: 1.3538 - val_accuracy: 0.4759\n",
      "Epoch 3/20\n",
      "865156/865156 [==============================] - 60s 69us/step - loss: 0.2903 - accuracy: 0.8639 - val_loss: 1.4087 - val_accuracy: 0.4822\n",
      "Epoch 4/20\n",
      "865156/865156 [==============================] - 68s 79us/step - loss: 0.2836 - accuracy: 0.8676 - val_loss: 1.5521 - val_accuracy: 0.4313\n",
      "Epoch 5/20\n",
      "865156/865156 [==============================] - 57s 66us/step - loss: 0.2780 - accuracy: 0.8708 - val_loss: 1.5155 - val_accuracy: 0.4535\n",
      "Epoch 6/20\n",
      "865156/865156 [==============================] - 78s 90us/step - loss: 0.2741 - accuracy: 0.8724 - val_loss: 1.5400 - val_accuracy: 0.4727\n",
      "Epoch 7/20\n",
      "865156/865156 [==============================] - 70s 80us/step - loss: 0.2698 - accuracy: 0.8742 - val_loss: 1.5671 - val_accuracy: 0.4701\n",
      "Epoch 8/20\n",
      "865156/865156 [==============================] - 58s 68us/step - loss: 0.2671 - accuracy: 0.8757 - val_loss: 1.5846 - val_accuracy: 0.4610\n",
      "Epoch 9/20\n",
      "865156/865156 [==============================] - 60s 69us/step - loss: 0.2641 - accuracy: 0.8774 - val_loss: 1.5448 - val_accuracy: 0.4733\n",
      "Epoch 10/20\n",
      "865156/865156 [==============================] - 58s 67us/step - loss: 0.2624 - accuracy: 0.8790 - val_loss: 1.5029 - val_accuracy: 0.4983\n",
      "Epoch 11/20\n",
      "865156/865156 [==============================] - 63s 73us/step - loss: 0.2597 - accuracy: 0.8797 - val_loss: 1.3734 - val_accuracy: 0.5033\n",
      "Epoch 12/20\n",
      "865156/865156 [==============================] - 80s 93us/step - loss: 0.2583 - accuracy: 0.8809 - val_loss: 1.5647 - val_accuracy: 0.4777\n",
      "Epoch 13/20\n",
      "865156/865156 [==============================] - 93s 107us/step - loss: 0.2570 - accuracy: 0.8819 - val_loss: 1.5752 - val_accuracy: 0.4707\n",
      "Epoch 14/20\n",
      "865156/865156 [==============================] - 88s 102us/step - loss: 0.2550 - accuracy: 0.8828 - val_loss: 1.8041 - val_accuracy: 0.4364\n",
      "Epoch 15/20\n",
      "865156/865156 [==============================] - 93s 108us/step - loss: 0.2539 - accuracy: 0.8835 - val_loss: 1.7411 - val_accuracy: 0.4309\n",
      "Epoch 16/20\n",
      "865156/865156 [==============================] - 92s 106us/step - loss: 0.2527 - accuracy: 0.8837 - val_loss: 1.6207 - val_accuracy: 0.4518\n",
      "Epoch 17/20\n",
      "865156/865156 [==============================] - 61s 70us/step - loss: 0.2514 - accuracy: 0.8849 - val_loss: 1.5610 - val_accuracy: 0.4434\n",
      "Epoch 18/20\n",
      "865156/865156 [==============================] - 61s 71us/step - loss: 0.2504 - accuracy: 0.8854 - val_loss: 1.5775 - val_accuracy: 0.4637\n",
      "Epoch 19/20\n",
      "865156/865156 [==============================] - 60s 69us/step - loss: 0.2497 - accuracy: 0.8852 - val_loss: 1.8731 - val_accuracy: 0.4270\n",
      "331419/331419 [==============================] - 7s 21us/step\n",
      "Test accuracy: 0.6612716913223267\n"
     ]
    }
   ],
   "source": [
    "callbacks_list = [\n",
    "    keras.callbacks.ModelCheckpoint(\n",
    "        filepath='best_model.{epoch:02d}-{val_loss:.2f}.h5',\n",
    "        monitor='val_loss', save_best_only=True),\n",
    "    keras.callbacks.EarlyStopping(monitor='accuracy', patience=1)\n",
    "]\n",
    "\n",
    "model_cnn.compile(loss='categorical_crossentropy',\n",
    "                optimizer='adam', metrics=['accuracy'])\n",
    "\n",
    "BATCH_SIZE = 40 #number of training examples\n",
    "EPOCHS = 20 #number of repeats of the algoritm\n",
    "\n",
    "history = model_cnn.fit(x_train,\n",
    "                      y_train,\n",
    "                      batch_size=BATCH_SIZE,\n",
    "                      epochs=EPOCHS,\n",
    "                      callbacks=callbacks_list,\n",
    "                      validation_split=0.2,\n",
    "                      verbose=1)\n",
    "\n",
    "prediction = model_cnn.predict(x_test)\n",
    "\n",
    "test_loss, test_acc = model_cnn.evaluate(x_test, y_test)\n",
    "print('Test accuracy:', test_acc)"
   ]
  },
  {
   "cell_type": "markdown",
   "metadata": {},
   "source": [
    "### Plotting Accuracy"
   ]
  },
  {
   "cell_type": "code",
   "execution_count": 20,
   "metadata": {},
   "outputs": [
    {
     "data": {
      "image/png": "[encoded data removed]",
      "text/plain": [
       "<Figure size 432x288 with 1 Axes>"
      ]
     },
     "metadata": {
      "needs_background": "light"
     },
     "output_type": "display_data"
    },
    {
     "data": {
      "image/png": "[encoded data removed]",
      "text/plain": [
       "<Figure size 432x288 with 1 Axes>"
      ]
     },
     "metadata": {
      "needs_background": "light"
     },
     "output_type": "display_data"
    }
   ],
   "source": [
    "plt.plot(history.history['accuracy'])\n",
    "plt.plot(history.history['val_accuracy'])\n",
    "plt.title('model accuracy')\n",
    "plt.ylabel('accuracy')\n",
    "plt.xlabel('epoch')\n",
    "plt.legend(['train', 'test'], loc='upper left')\n",
    "plt.show()\n",
    "# summarize history for loss\n",
    "plt.plot(history.history['loss'])\n",
    "plt.plot(history.history['val_loss'])\n",
    "plt.title('model loss')\n",
    "plt.ylabel('loss')\n",
    "plt.xlabel('epoch')\n",
    "plt.legend(['train', 'test'], loc='upper left')\n",
    "plt.show()"
   ]
  },
  {
   "cell_type": "markdown",
   "metadata": {},
   "source": [
    "The model was then evaluated for its accuracy, precision, recall and overall F1 score, but producing categorised predictions."
   ]
  },
  {
   "cell_type": "code",
   "execution_count": 21,
   "metadata": {},
   "outputs": [
    {
     "name": "stdout",
     "output_type": "stream",
     "text": [
      "331419/331419 [==============================] - 6s 18us/step\n",
      "331419/331419 [==============================] - 5s 16us/step\n",
      "Accuracy: 0.661272\n",
      "Precision: 0.698772\n",
      "Recall: 0.733564\n",
      "F1 score: 0.715745\n"
     ]
    }
   ],
   "source": [
    "# predict probabilities for test set\n",
    "cnn_probs = model_cnn.predict(x_test, verbose=1)\n",
    "cnn_classes = model_cnn.predict_classes(x_test, verbose=1)\n",
    "#cnn_classes = cnn_classes.astype('float32')\n",
    "\n",
    "y_test = test_ts [:,18]\n",
    "\n",
    "# accuracy: (tp + tn) / (p + n)\n",
    "accuracy = accuracy_score(y_test, cnn_classes)\n",
    "print('Accuracy: %f' % accuracy)\n",
    "# precision tp / (tp + fp)\n",
    "precision = precision_score(y_test, cnn_classes)\n",
    "print('Precision: %f' % precision)\n",
    "# recall: tp / (tp + fn)\n",
    "recall = recall_score(y_test, cnn_classes)\n",
    "print('Recall: %f' % recall)\n",
    "# f1: 2 tp / (2 tp + fp + fn)\n",
    "f1 = f1_score(y_test, cnn_classes)\n",
    "print('F1 score: %f' % f1)\n"
   ]
  },
  {
   "cell_type": "markdown",
   "metadata": {},
   "source": [
    "This produced the following confusion matrix:"
   ]
  },
  {
   "cell_type": "code",
   "execution_count": 22,
   "metadata": {},
   "outputs": [
    {
     "data": {
      "text/plain": [
       "Text(0.5, 15.0, 'Predicted label')"
      ]
     },
     "execution_count": 22,
     "metadata": {},
     "output_type": "execute_result"
    },
    {
     "data": {
      "image/png": "[encoded data removed]",
      "text/plain": [
       "<Figure size 432x288 with 2 Axes>"
      ]
     },
     "metadata": {
      "needs_background": "light"
     },
     "output_type": "display_data"
    }
   ],
   "source": [
    "sns.heatmap(confusion_matrix(y_test, cnn_classes),annot=True, annot_kws={\"size\": 14},fmt='3.0f',cmap=\"RdBu_r\")\n",
    "plt.title('CNN Confusion_matrix', y=1.05, size=15)\n",
    "plt.ylabel('True label')\n",
    "plt.xlabel('Predicted label')\n"
   ]
  },
  {
   "cell_type": "markdown",
   "metadata": {},
   "source": [
    "This was then repeated for each tested activity. "
   ]
  },
  {
   "cell_type": "markdown",
   "metadata": {},
   "source": [
    "The decision to have 20 epochs was made due to the efficiency of fewer runs. However, the improvement to the model's accuracy when increasing this has been noted. This was tested on the activity that produced the highest accuracy - "
   ]
  },
  {
   "cell_type": "code",
   "execution_count": 27,
   "metadata": {},
   "outputs": [
    {
     "name": "stdout",
     "output_type": "stream",
     "text": [
      "x_train shape: (224816, 18, 1)\n",
      "224816 train samples\n",
      "81611 test samples\n"
     ]
    }
   ],
   "source": [
    "Train=train_ts[train_ts[:,17]==1]\n",
    "Test=test_ts[test_ts[:,17]==1]\n",
    "\n",
    "\n",
    "#Making sample for the model with the highest accuracy\n",
    "x_test = np.delete((Test), 18, 1) \n",
    "y_test = Test [:,18]\n",
    "x_train = np.delete((Train), 18, 1)\n",
    "y_train = Train[:,18]\n",
    "num_classes = 2\n",
    "\n",
    "#correct array shape\n",
    "x_train = x_train.reshape(x_train.shape[0],18,1)\n",
    "x_test = x_test.reshape(x_test.shape[0], 18, 1)\n",
    "\n",
    "#final shape of the x samples\n",
    "x_train = x_train.astype('float32')\n",
    "x_test = x_test.astype('float32')\n",
    "print('x_train shape:', x_train.shape)\n",
    "print(x_train.shape[0], 'train samples')\n",
    "print(x_test.shape[0], 'test samples')\n",
    "\n",
    "# convert class vectors to binary class matrices\n",
    "from keras.utils import to_categorical\n",
    "y_train = keras.utils.to_categorical(y_train, num_classes)\n",
    "y_test = keras.utils.to_categorical(y_test, num_classes)"
   ]
  },
  {
   "cell_type": "code",
   "execution_count": 28,
   "metadata": {},
   "outputs": [
    {
     "name": "stdout",
     "output_type": "stream",
     "text": [
      "Train on 179852 samples, validate on 44964 samples\n",
      "Epoch 1/200\n",
      "179852/179852 [==============================] - 12s 65us/step - loss: 0.0867 - accuracy: 0.9655 - val_loss: 1.0474 - val_accuracy: 0.6447\n",
      "Epoch 2/200\n",
      "179852/179852 [==============================] - 12s 66us/step - loss: 0.0765 - accuracy: 0.9690 - val_loss: 1.0651 - val_accuracy: 0.6752\n",
      "Epoch 3/200\n",
      "179852/179852 [==============================] - 12s 66us/step - loss: 0.0708 - accuracy: 0.9716 - val_loss: 1.1693 - val_accuracy: 0.6810\n",
      "Epoch 4/200\n",
      "179852/179852 [==============================] - 11s 62us/step - loss: 0.0679 - accuracy: 0.9724 - val_loss: 1.0090 - val_accuracy: 0.7085\n",
      "Epoch 5/200\n",
      "179852/179852 [==============================] - 11s 62us/step - loss: 0.0658 - accuracy: 0.9732 - val_loss: 1.1628 - val_accuracy: 0.7060\n",
      "Epoch 6/200\n",
      "179852/179852 [==============================] - 11s 63us/step - loss: 0.0639 - accuracy: 0.9740 - val_loss: 1.0389 - val_accuracy: 0.7232\n",
      "Epoch 7/200\n",
      "179852/179852 [==============================] - 11s 62us/step - loss: 0.0627 - accuracy: 0.9748 - val_loss: 0.8157 - val_accuracy: 0.7804\n",
      "Epoch 8/200\n",
      "179852/179852 [==============================] - 12s 64us/step - loss: 0.0609 - accuracy: 0.9753 - val_loss: 1.1279 - val_accuracy: 0.7247\n",
      "Epoch 9/200\n",
      "179852/179852 [==============================] - 13s 71us/step - loss: 0.0602 - accuracy: 0.9755 - val_loss: 1.0706 - val_accuracy: 0.7442\n",
      "Epoch 10/200\n",
      "179852/179852 [==============================] - 18s 100us/step - loss: 0.0598 - accuracy: 0.9760 - val_loss: 1.1202 - val_accuracy: 0.7309\n",
      "Epoch 11/200\n",
      "179852/179852 [==============================] - 13s 73us/step - loss: 0.0590 - accuracy: 0.9760 - val_loss: 0.8984 - val_accuracy: 0.7889\n",
      "model complete\n",
      "81611/81611 [==============================] - 2s 25us/step\n",
      "Test accuracy: 0.6448150277137756\n"
     ]
    },
    {
     "data": {
      "image/png": "[encoded data removed]",
      "text/plain": [
       "<Figure size 432x288 with 1 Axes>"
      ]
     },
     "metadata": {
      "needs_background": "light"
     },
     "output_type": "display_data"
    },
    {
     "data": {
      "image/png": "[encoded data removed]",
      "text/plain": [
       "<Figure size 432x288 with 1 Axes>"
      ]
     },
     "metadata": {
      "needs_background": "light"
     },
     "output_type": "display_data"
    }
   ],
   "source": [
    "EPOCHS = 200 #number of repeats of the algoritm\n",
    "\n",
    "history = model_cnn.fit(x_train,\n",
    "                      y_train,\n",
    "                      batch_size=BATCH_SIZE,\n",
    "                      epochs=EPOCHS,\n",
    "                      callbacks=callbacks_list,\n",
    "                      validation_split=0.2,\n",
    "                      verbose=1)\n",
    "print('model complete')\n",
    "\n",
    "prediction = model_cnn.predict(x_test)\n",
    "\n",
    "test_loss, test_acc = model_cnn.evaluate(x_test, y_test)\n",
    "print('Test accuracy:', test_acc)\n",
    "\n",
    "plt.plot(history.history['accuracy'])\n",
    "plt.plot(history.history['val_accuracy'])\n",
    "plt.title('model accuracy')\n",
    "plt.ylabel('accuracy')\n",
    "plt.xlabel('epoch')\n",
    "plt.legend(['train', 'test'], loc='upper left')\n",
    "plt.show()\n",
    "# summarize history for loss\n",
    "plt.plot(history.history['loss'])\n",
    "plt.plot(history.history['val_loss'])\n",
    "plt.title('model loss')\n",
    "plt.ylabel('loss')\n",
    "plt.xlabel('epoch')\n",
    "plt.legend(['train', 'test'], loc='upper left')\n",
    "plt.show()"
   ]
  },
  {
   "cell_type": "markdown",
   "metadata": {},
   "source": [
    "The model is observed to not run for all the epochs - this has limited influence therefore on the model's accuracy"
   ]
  },
  {
   "cell_type": "code",
   "execution_count": null,
   "metadata": {},
   "outputs": [],
   "source": []
  }
 ],
 "metadata": {
  "kernelspec": {
   "display_name": "Python 3",
   "language": "python",
   "name": "python3"
  },
  "language_info": {
   "codemirror_mode": {
    "name": "ipython",
    "version": 3
   },
   "file_extension": ".py",
   "mimetype": "text/x-python",
   "name": "python",
   "nbconvert_exporter": "python",
   "pygments_lexer": "ipython3",
   "version": "3.7.4"
  }
 },
 "nbformat": 4,
 "nbformat_minor": 2
}
