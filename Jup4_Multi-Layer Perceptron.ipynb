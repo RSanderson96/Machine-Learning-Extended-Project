{
 "cells": [
  {
   "cell_type": "markdown",
   "metadata": {},
   "source": [
    "# Multi-Layer Perceptron"
   ]
  },
  {
   "cell_type": "markdown",
   "metadata": {},
   "source": [
    "## Initial Imports"
   ]
  },
  {
   "cell_type": "code",
   "execution_count": 1,
   "metadata": {},
   "outputs": [
    {
     "name": "stdout",
     "output_type": "stream",
     "text": [
      "----> Data subjects information is imported.\n",
      "--> Start...\n",
      "--> Building Training and Test Datasets...\n",
      "----> Data subjects information is imported.\n",
      "--> Shape of Training Time-Seires: (1081446, 19)\n",
      "--> Shape of Test Time-Series: (331419, 19)\n"
     ]
    }
   ],
   "source": [
    "import pandas as pd\n",
    "import numpy as np\n",
    "import sklearn as sk\n",
    "import seaborn as sns\n",
    "import matplotlib.pylab as plt\n",
    "import matplotlib.pyplot as pyplt\n",
    "from sklearn.neural_network import MLPClassifier\n",
    "from sklearn import metrics \n",
    "from sklearn.metrics import precision_score\n",
    "from sklearn.metrics import recall_score, f1_score\n",
    "from sklearn.metrics import confusion_matrix\n",
    "\n",
    "\n",
    "def get_ds_infos():\n",
    "    ## 0:Code, 1:Weight, 2:Height, 3:Age, 4:Gender\n",
    "    dss = np.genfromtxt(\"data_subjects_info.csv\",delimiter=',')\n",
    "    dss = dss[1:]\n",
    "    print(\"----> Data subjects information is imported.\")\n",
    "    return dss #read data subjects CSV file\n",
    "ds_list = get_ds_infos()\n",
    "\n",
    "def create_time_series(num_features, num_act_labels, num_gen_labels, label_codes, trial_codes):\n",
    "    dataset_columns = num_features+num_act_labels+num_gen_labels\n",
    "    ds_list = get_ds_infos() #information about the participants\n",
    "    train_data = np.zeros((0,dataset_columns)) #making initial array\n",
    "    test_data = np.zeros((0,dataset_columns))\n",
    "    for i, sub_id in enumerate(ds_list[:,0]):\n",
    "        for j, act in enumerate(label_codes):\n",
    "            for trial in trial_codes[act]:\n",
    "                fname ='motionsense-dataset/A_DeviceMotion_data/'+act+'_'+str(trial)+'/sub_'+str(int(sub_id))+'.csv'\n",
    "                raw_data = pd.read_csv(fname)\n",
    "                raw_data = raw_data.drop(['Unnamed: 0'], axis=1) #drop first column\n",
    "                unlabel_data = raw_data.values #need to lavel the data for training\n",
    "                label_data = np.zeros((len(unlabel_data), dataset_columns))\n",
    "                label_data[:,:-(num_act_labels + num_gen_labels)] = unlabel_data\n",
    "                label_data[:,label_codes[act]] = 1 #if that activity is included, 1 in column\n",
    "                label_data[:,-(num_gen_labels)] = int(ds_list[i,4]) #picking the gender column\n",
    "                ## long trials = training dataset Short trials = test dataset\n",
    "                if trial > 10: #training data is later trials\n",
    "                    test_data = np.append(test_data, label_data, axis = 0)\n",
    "                else:    \n",
    "                    train_data = np.append(train_data, label_data, axis = 0)\n",
    "    return train_data , test_data #returns the two datasets - rows of individual results for each time stamp\n",
    "print(\"--> Start...\")\n",
    "## Here we set parameter to build labeld time-series from dataset of \"(A)DeviceMotion_data\"\n",
    "num_features = 12 # attitude(roll, pitch, yaw); gravity(x, y, z); rotationRate(x, y, z); userAcceleration(x,y,z)\n",
    "num_act_labels = 6 # dws, ups, wlk, jog, sit, std\n",
    "num_gen_labels = 1 # 0/1(female/male)\n",
    "label_codes = {\"dws\":num_features, \"ups\":num_features+1, \"wlk\":num_features+2, \"jog\":num_features+3, \"sit\":num_features+4, \"std\":num_features+5}\n",
    "trial_codes = {\"dws\":[1,2,11], \"ups\":[3,4,12], \"wlk\":[7,8,15], \"jog\":[9,16], \"sit\":[5,13], \"std\":[6,14]}    \n",
    "## Use'create_time_series()' to build time-series\n",
    "print(\"--> Building Training and Test Datasets...\")\n",
    "train_ts, test_ts = create_time_series(num_features, num_act_labels, num_gen_labels, label_codes, trial_codes)\n",
    "print(\"--> Shape of Training Time-Seires:\", train_ts.shape)\n",
    "print(\"--> Shape of Test Time-Series:\", test_ts.shape)\n",
    "\n"
   ]
  },
  {
   "cell_type": "markdown",
   "metadata": {},
   "source": [
    "## Initial Data and Training the Model"
   ]
  },
  {
   "cell_type": "markdown",
   "metadata": {},
   "source": [
    "Once again, the models were trained with identicle testing and training datasets. The MLP was trained within the SKLearn package due to the simplicity of the code - keras would be an alternative model, with a more intricate build up of layers"
   ]
  },
  {
   "cell_type": "code",
   "execution_count": 2,
   "metadata": {},
   "outputs": [],
   "source": [
    "#Establish datasets, as is seen in other model formation\n",
    "TrainDF = pd.DataFrame(train_ts)\n",
    "TestDF = pd.DataFrame(test_ts)\n",
    "\n",
    "\n",
    "features= range(0,18)\n",
    "x_train = TrainDF [features]\n",
    "y_train = TrainDF[18]\n",
    "x_test = TestDF [features]\n",
    "y_test = TestDF[18]\n",
    "MLP = MLPClassifier(solver='lbfgs', alpha=1e-5,\n",
    "                    hidden_layer_sizes=(5, 2), random_state=1)\n",
    "\n",
    "MLP.fit(x_train, y_train)\n",
    "prediction = MLP.predict(x_test)"
   ]
  },
  {
   "cell_type": "markdown",
   "metadata": {},
   "source": [
    "### Measuring Accuracy"
   ]
  },
  {
   "cell_type": "code",
   "execution_count": 3,
   "metadata": {},
   "outputs": [
    {
     "name": "stdout",
     "output_type": "stream",
     "text": [
      "Accuracy: 0.6518757222730139\n",
      "Precision: 0.712\n",
      "Recall: 0.673\n",
      "F1: 0.692\n"
     ]
    }
   ],
   "source": [
    "print(\"Accuracy:\",metrics.accuracy_score(y_test, prediction)) \n",
    "print('Precision: %.3f' % precision_score(y_test, prediction)) \n",
    "print('Recall: %.3f' % recall_score(y_test, prediction)) \n",
    "print('F1: %.3f' % f1_score(y_test, prediction)) \n"
   ]
  },
  {
   "cell_type": "markdown",
   "metadata": {},
   "source": [
    "### Confusion Matrix"
   ]
  },
  {
   "cell_type": "code",
   "execution_count": 4,
   "metadata": {},
   "outputs": [
    {
     "data": {
      "text/plain": [
       "Text(0.5, 15.0, 'Predicted label')"
      ]
     },
     "execution_count": 4,
     "metadata": {},
     "output_type": "execute_result"
    },
    {
     "data": {
      "image/png": "[encoded data removed]",
      "text/plain": [
       "<Figure size 432x288 with 2 Axes>"
      ]
     },
     "metadata": {
      "needs_background": "light"
     },
     "output_type": "display_data"
    }
   ],
   "source": [
    "sns.heatmap(confusion_matrix(y_test, prediction),annot=True, annot_kws={\"size\": 14},fmt='3.0f',cmap=\"RdBu_r\")\n",
    "plt.title('MLP Confusion_matrix', y=1.05, size=15)\n",
    "plt.ylabel('True label')\n",
    "plt.xlabel('Predicted label')\n",
    "\n"
   ]
  },
  {
   "cell_type": "markdown",
   "metadata": {},
   "source": [
    "## Adjusting to test different samples"
   ]
  },
  {
   "cell_type": "code",
   "execution_count": 5,
   "metadata": {},
   "outputs": [
    {
     "name": "stdout",
     "output_type": "stream",
     "text": [
      "Accuracy: 0.7205846304694202\n",
      "Precision: 0.753\n",
      "Recall: 0.769\n",
      "F1: 0.761\n"
     ]
    },
    {
     "data": {
      "text/plain": [
       "Text(0.5, 15.0, 'Predicted label')"
      ]
     },
     "execution_count": 5,
     "metadata": {},
     "output_type": "execute_result"
    },
    {
     "data": {
      "image/png": "[encoded data removed]",
      "text/plain": [
       "<Figure size 432x288 with 2 Axes>"
      ]
     },
     "metadata": {
      "needs_background": "light"
     },
     "output_type": "display_data"
    }
   ],
   "source": [
    "TrainDF = pd.DataFrame(train_ts[train_ts[:,14]==1])\n",
    "TestDF = pd.DataFrame(test_ts[test_ts[:,14]==1])\n",
    "\n",
    "\n",
    "features= range(0,18)\n",
    "x_train = TrainDF [features]\n",
    "y_train = TrainDF[18]\n",
    "x_test = TestDF [features]\n",
    "y_test = TestDF[18]\n",
    "MLP = MLPClassifier(solver='lbfgs', alpha=1e-5,\n",
    "                    hidden_layer_sizes=(5,2), random_state=1)\n",
    "\n",
    "MLP.fit(x_train, y_train)\n",
    "prediction = MLP.predict(x_test)\n",
    "\n",
    "print(\"Accuracy:\",metrics.accuracy_score(y_test, prediction)) #0.63553\n",
    "print('Precision: %.3f' % precision_score(y_test, prediction)) #0.647 \n",
    "print('Recall: %.3f' % recall_score(y_test, prediction)) #0.819\n",
    "print('F1: %.3f' % f1_score(y_test, prediction)) #0.723\n",
    "\n",
    "sns.heatmap(confusion_matrix(y_test, prediction),annot=True, annot_kws={\"size\": 14},fmt='3.0f',cmap=\"RdBu_r\")\n",
    "plt.title('MLP Confusion_matrix', y=1.05, size=15)\n",
    "plt.ylabel('True label')\n",
    "plt.xlabel('Predicted label')\n"
   ]
  },
  {
   "cell_type": "markdown",
   "metadata": {},
   "source": [
    "## Changing Parameters (5,2) to (10,10,10)"
   ]
  },
  {
   "cell_type": "code",
   "execution_count": 6,
   "metadata": {},
   "outputs": [
    {
     "name": "stdout",
     "output_type": "stream",
     "text": [
      "Accuracy: 0.6562327446525396\n",
      "Precision: 0.688\n",
      "Recall: 0.748\n",
      "F1: 0.717\n"
     ]
    },
    {
     "data": {
      "text/plain": [
       "Text(0.5, 15.0, 'Predicted label')"
      ]
     },
     "execution_count": 6,
     "metadata": {},
     "output_type": "execute_result"
    },
    {
     "data": {
      "image/png": "[encoded data removed]",
      "text/plain": [
       "<Figure size 432x288 with 2 Axes>"
      ]
     },
     "metadata": {
      "needs_background": "light"
     },
     "output_type": "display_data"
    }
   ],
   "source": [
    "TrainDF = pd.DataFrame(train_ts)\n",
    "TestDF = pd.DataFrame(test_ts)\n",
    "\n",
    "\n",
    "features= range(0,18)\n",
    "x_train = TrainDF [features]\n",
    "y_train = TrainDF[18]\n",
    "x_test = TestDF [features]\n",
    "y_test = TestDF[18]\n",
    "MLP = MLPClassifier(solver='lbfgs', alpha=1e-5,\n",
    "                    hidden_layer_sizes=(10, 10,10), random_state=1)\n",
    "\n",
    "MLP.fit(x_train, y_train)\n",
    "prediction = MLP.predict(x_test)\n",
    "\n",
    "print(\"Accuracy:\",metrics.accuracy_score(y_test, prediction)) #0.63553\n",
    "print('Precision: %.3f' % precision_score(y_test, prediction)) #0.647 \n",
    "print('Recall: %.3f' % recall_score(y_test, prediction)) #0.819\n",
    "print('F1: %.3f' % f1_score(y_test, prediction)) #0.723\n",
    "\n",
    "sns.heatmap(confusion_matrix(y_test, prediction),annot=True, annot_kws={\"size\": 14},fmt='3.0f',cmap=\"RdBu_r\")\n",
    "plt.title('MLP Confusion_matrix', y=1.05, size=15)\n",
    "plt.title('MLP Confusion_matrix', y=1.05, size=15)\n",
    "plt.ylabel('True label')\n",
    "plt.xlabel('Predicted label')\n"
   ]
  },
  {
   "cell_type": "code",
   "execution_count": null,
   "metadata": {},
   "outputs": [],
   "source": []
  }
 ],
 "metadata": {
  "kernelspec": {
   "display_name": "Python 3",
   "language": "python",
   "name": "python3"
  },
  "language_info": {
   "codemirror_mode": {
    "name": "ipython",
    "version": 3
   },
   "file_extension": ".py",
   "mimetype": "text/x-python",
   "name": "python",
   "nbconvert_exporter": "python",
   "pygments_lexer": "ipython3",
   "version": "3.7.4"
  }
 },
 "nbformat": 4,
 "nbformat_minor": 2
}
