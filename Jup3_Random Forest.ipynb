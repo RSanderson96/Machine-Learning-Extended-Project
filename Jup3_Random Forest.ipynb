{
 "cells": [
  {
   "cell_type": "markdown",
   "metadata": {},
   "source": [
    "# Random Forest Classifier"
   ]
  },
  {
   "cell_type": "markdown",
   "metadata": {},
   "source": [
    "## Initial Downloads "
   ]
  },
  {
   "cell_type": "code",
   "execution_count": 1,
   "metadata": {},
   "outputs": [
    {
     "name": "stdout",
     "output_type": "stream",
     "text": [
      "----> Data subjects information is imported.\n",
      "--> Start...\n",
      "--> Building Training and Test Datasets...\n",
      "----> Data subjects information is imported.\n",
      "--> Shape of Training Time-Seires: (1081446, 19)\n",
      "--> Shape of Test Time-Series: (331419, 19)\n"
     ]
    }
   ],
   "source": [
    "import pandas as pd #making dataframes\n",
    "import numpy as np #making arrays\n",
    "import sklearn as sk #models\n",
    "import seaborn as sns #plots\n",
    "import matplotlib.pylab as plt #plots\n",
    "import matplotlib.pyplot as pyplt #plots\n",
    "from sklearn import tree #trees\n",
    "from sklearn.ensemble import RandomForestClassifier #random forest model\n",
    "from sklearn import metrics #analysis\n",
    "from sklearn.metrics import accuracy_score\n",
    "from sklearn.metrics import precision_score\n",
    "from sklearn.metrics import recall_score\n",
    "from sklearn.metrics import f1_score\n",
    "from sklearn.metrics import confusion_matrix\n",
    "\n",
    "def get_ds_infos():\n",
    "    ## 0:Code, 1:Weight, 2:Height, 3:Age, 4:Gender\n",
    "    dss = np.genfromtxt(\"data_subjects_info.csv\",delimiter=',')\n",
    "    dss = dss[1:]\n",
    "    print(\"----> Data subjects information is imported.\")\n",
    "    return dss #read data subjects CSV file\n",
    "ds_list = get_ds_infos()\n",
    "\n",
    "def create_time_series(num_features, num_act_labels, num_gen_labels, label_codes, trial_codes):\n",
    "    dataset_columns = num_features+num_act_labels+num_gen_labels\n",
    "    ds_list = get_ds_infos() #information about the participants\n",
    "    train_data = np.zeros((0,dataset_columns)) #making initial array\n",
    "    test_data = np.zeros((0,dataset_columns))\n",
    "    for i, sub_id in enumerate(ds_list[:,0]):\n",
    "        for j, act in enumerate(label_codes):\n",
    "            for trial in trial_codes[act]:\n",
    "                fname ='motionsense-dataset/A_DeviceMotion_data/'+act+'_'+str(trial)+'/sub_'+str(int(sub_id))+'.csv'\n",
    "                raw_data = pd.read_csv(fname)\n",
    "                raw_data = raw_data.drop(['Unnamed: 0'], axis=1) #drop first column\n",
    "                unlabel_data = raw_data.values #need to lavel the data for training\n",
    "                label_data = np.zeros((len(unlabel_data), dataset_columns))\n",
    "                label_data[:,:-(num_act_labels + num_gen_labels)] = unlabel_data\n",
    "                label_data[:,label_codes[act]] = 1 #if that activity is included, 1 in column\n",
    "                label_data[:,-(num_gen_labels)] = int(ds_list[i,4]) #picking the gender column\n",
    "                ## long trials = training dataset Short trials = test dataset\n",
    "                if trial > 10: #training data is later trials\n",
    "                    test_data = np.append(test_data, label_data, axis = 0)\n",
    "                else:    \n",
    "                    train_data = np.append(train_data, label_data, axis = 0)\n",
    "    return train_data , test_data #returns the two datasets - rows of individual results for each time stamp\n",
    "print(\"--> Start...\")\n",
    "## Here we set parameter to build labeld time-series from dataset of \"(A)DeviceMotion_data\"\n",
    "num_features = 12 # attitude(roll, pitch, yaw); gravity(x, y, z); rotationRate(x, y, z); userAcceleration(x,y,z)\n",
    "num_act_labels = 6 # dws, ups, wlk, jog, sit, std\n",
    "num_gen_labels = 1 # 0/1(female/male)\n",
    "label_codes = {\"dws\":num_features, \"ups\":num_features+1, \"wlk\":num_features+2, \"jog\":num_features+3, \"sit\":num_features+4, \"std\":num_features+5}\n",
    "trial_codes = {\"dws\":[1,2,11], \"ups\":[3,4,12], \"wlk\":[7,8,15], \"jog\":[9,16], \"sit\":[5,13], \"std\":[6,14]}    \n",
    "## Use'create_time_series()' to build time-series\n",
    "print(\"--> Building Training and Test Datasets...\")\n",
    "train_ts, test_ts = create_time_series(num_features, num_act_labels, num_gen_labels, label_codes, trial_codes)\n",
    "print(\"--> Shape of Training Time-Seires:\", train_ts.shape)\n",
    "print(\"--> Shape of Test Time-Series:\", test_ts.shape)\n"
   ]
  },
  {
   "cell_type": "markdown",
   "metadata": {},
   "source": [
    "## Developing the initial model"
   ]
  },
  {
   "cell_type": "code",
   "execution_count": 23,
   "metadata": {},
   "outputs": [],
   "source": [
    "TestDF = pd.DataFrame(test_ts) #establishing the data sets as dataframes (Train/test)\n",
    "TrainDF = pd.DataFrame(train_ts)\n",
    "\n",
    "features= range(0,18) #all columns except gender\n",
    "x_test = TestDF[features]\n",
    "y_test = TestDF [18] #gender column\n",
    "x_train = TrainDF[features]\n",
    "y_train = TrainDF[18]\n",
    "\n",
    "Random_Forest = RandomForestClassifier(n_estimators=20, max_depth=10, random_state=1) #100 chosen as optimum number of estimators\n",
    "Random_Forest.fit(x_train, y_train) #fitting the model to the training data\n",
    "Y_Predictions = Random_Forest.predict(x_test) #testing from the testing data\n",
    "Y_True = y_test\n",
    "\n"
   ]
  },
  {
   "cell_type": "markdown",
   "metadata": {},
   "source": [
    "### Assessing Accuracy"
   ]
  },
  {
   "cell_type": "markdown",
   "metadata": {},
   "source": [
    "The data was then tested against the following accuracy scores"
   ]
  },
  {
   "cell_type": "code",
   "execution_count": 24,
   "metadata": {},
   "outputs": [
    {
     "name": "stdout",
     "output_type": "stream",
     "text": [
      "Accuracy: 0.6694456262314472\n",
      "Precision: 0.694\n",
      "Recall: 0.772\n",
      "F1: 0.731\n"
     ]
    }
   ],
   "source": [
    "#use the model to compare the predictions to the gender column of the test data\n",
    "print(\"Accuracy:\",metrics.accuracy_score(Y_True, Y_Predictions))  \n",
    "print('Precision: %.3f' % precision_score(Y_True, Y_Predictions))  \n",
    "print('Recall: %.3f' % recall_score(Y_True, Y_Predictions)) \n",
    "print('F1: %.3f' % f1_score(Y_True, Y_Predictions))"
   ]
  },
  {
   "cell_type": "markdown",
   "metadata": {},
   "source": [
    "This was then repeated for each activity undertaken, with a confusion matrix and feature importance chart produced for the highest scoring data sample( accuracy scores in report)"
   ]
  },
  {
   "cell_type": "code",
   "execution_count": 12,
   "metadata": {},
   "outputs": [
    {
     "data": {
      "text/plain": [
       "Text(0.5, 15.0, 'Predicted label')"
      ]
     },
     "execution_count": 12,
     "metadata": {},
     "output_type": "execute_result"
    },
    {
     "data": {
      "image/png": "[encoded data removed]",
      "text/plain": [
       "<Figure size 432x288 with 2 Axes>"
      ]
     },
     "metadata": {
      "needs_background": "light"
     },
     "output_type": "display_data"
    }
   ],
   "source": [
    "sns.heatmap(confusion_matrix(Y_True, Y_Predictions),annot=True, annot_kws={\"size\": 14},fmt='3.0f',cmap=\"RdBu_r\")\n",
    "plt.title('Random Forest Confusion_matrix', y=1.05, size=15)\n",
    "plt.ylabel('True label')\n",
    "plt.xlabel('Predicted label')\n"
   ]
  },
  {
   "cell_type": "markdown",
   "metadata": {},
   "source": [
    "### Feature Importance"
   ]
  },
  {
   "cell_type": "markdown",
   "metadata": {},
   "source": [
    "The model was then assessed with regards to its feature importance to produce the following bar plot"
   ]
  },
  {
   "cell_type": "code",
   "execution_count": 20,
   "metadata": {},
   "outputs": [
    {
     "name": "stdout",
     "output_type": "stream",
     "text": [
      "Feature ranking:\n",
      "1. feature 5 (0.172101)\n",
      "2. feature 2 (0.133080)\n",
      "3. feature 0 (0.110655)\n",
      "4. feature 3 (0.109329)\n",
      "5. feature 1 (0.086868)\n",
      "6. feature 4 (0.078048)\n",
      "7. feature 11 (0.069744)\n",
      "8. feature 6 (0.054895)\n",
      "9. feature 16 (0.036921)\n",
      "10. feature 17 (0.034437)\n",
      "11. feature 10 (0.029666)\n",
      "12. feature 9 (0.019199)\n",
      "13. feature 8 (0.016320)\n",
      "14. feature 13 (0.012939)\n",
      "15. feature 7 (0.012772)\n",
      "16. feature 12 (0.008407)\n",
      "17. feature 14 (0.007870)\n",
      "18. feature 15 (0.006749)\n"
     ]
    },
    {
     "data": {
      "image/png": "[encoded data removed]",
      "text/plain": [
       "<Figure size 432x288 with 1 Axes>"
      ]
     },
     "metadata": {
      "needs_background": "light"
     },
     "output_type": "display_data"
    },
    {
     "name": "stdout",
     "output_type": "stream",
     "text": [
      "Key: 1 - Attitude:Roll,2 - Attitude: Pitch, 3 - Attitude:Yaw, 4 - Gravity:X, 5 - Gravity:Y, 6 - Gravity:Z, 7 - Rotation_Rate: X, 8 - Rotation_Rate: Y, 9 - Rotation_Rate: Z, 10 - Acceleration: X, 11 - Acceleration: Y, 12 - Acceleration: Z, 11 - Down, 12 - Up, 13 - Walk, 14 - Jog, 15 - Sit, 16 - Stand\n"
     ]
    }
   ],
   "source": [
    "importances = Random_Forest.feature_importances_ #identify feature importance\n",
    "std = np.std([tree.feature_importances_ for tree in Random_Forest.estimators_],\n",
    "             axis=0)\n",
    "indices = np.argsort(importances)[::-1]\n",
    "\n",
    "# Print the feature ranking\n",
    "print(\"Feature ranking:\")\n",
    "\n",
    "for f in range(x_train.shape[1]):\n",
    "    print(\"%d. feature %d (%f)\" % (f + 1, indices[f], importances[indices[f]]))\n",
    "    \n",
    "#visualise within a plot\n",
    "plt.figure()\n",
    "plt.title(\"Feature importances in Random Forest Classifier\")\n",
    "plt.bar(range(x_train.shape[1]), importances[indices],\n",
    "       color=\"r\", yerr=std[indices], align=\"center\")\n",
    "plt.xticks(range(x_train.shape[1]), indices)\n",
    "plt.xlim([-1, x_train.shape[1]])\n",
    "plt.xlabel(\"Data Features\")\n",
    "plt.ylabel(\"Level of Importance\")\n",
    "plt.show()"
   ]
  },
  {
   "cell_type": "markdown",
   "metadata": {},
   "source": [
    "## Using Participent Information"
   ]
  },
  {
   "cell_type": "markdown",
   "metadata": {},
   "source": [
    "A further experiment was to consider the influence of the participent information in producing a model - the Random Forest was an easier model to apply this to, as it could be produced from smaller amounts of data. "
   ]
  },
  {
   "cell_type": "code",
   "execution_count": 21,
   "metadata": {},
   "outputs": [],
   "source": [
    "from sklearn.model_selection import train_test_split\n",
    "path =\"data_subjects_info.csv\" #importing the data within a dataframe\n",
    "Subject_Info = pd.read_csv(path)"
   ]
  },
  {
   "cell_type": "code",
   "execution_count": 22,
   "metadata": {},
   "outputs": [
    {
     "name": "stdout",
     "output_type": "stream",
     "text": [
      "Accuracy: 1.0\n",
      "Precision: 1.000\n",
      "Recall: 1.000\n",
      "F1: 1.000\n"
     ]
    }
   ],
   "source": [
    "x_train, x_test, y_train, y_test = train_test_split(Subject_Info, Subject_Info[\"gender\"], test_size=0.3)\n",
    "\n",
    "Random_Forest = RandomForestClassifier(n_estimators=3, max_depth=2, random_state=1)\n",
    "Random_Forest.fit(x_train, y_train)\n",
    "predictions = Random_Forest.predict(x_test)\n",
    "\n",
    "print(\"Accuracy:\",metrics.accuracy_score(y_test, predictions))  \n",
    "print('Precision: %.3f' % precision_score(y_test, predictions))  \n",
    "print('Recall: %.3f' % recall_score(y_test, predictions)) \n",
    "print('F1: %.3f' % f1_score(y_test, predictions))"
   ]
  },
  {
   "cell_type": "markdown",
   "metadata": {},
   "source": [
    "This was observed to produce 100% accurate scores - as lovely as this would be, there is a very strong chance that this is formed from the algorithm guessing, and the sample is too small to test this any further."
   ]
  }
 ],
 "metadata": {
  "kernelspec": {
   "display_name": "Python 3",
   "language": "python",
   "name": "python3"
  },
  "language_info": {
   "codemirror_mode": {
    "name": "ipython",
    "version": 3
   },
   "file_extension": ".py",
   "mimetype": "text/x-python",
   "name": "python",
   "nbconvert_exporter": "python",
   "pygments_lexer": "ipython3",
   "version": "3.7.4"
  }
 },
 "nbformat": 4,
 "nbformat_minor": 2
}
